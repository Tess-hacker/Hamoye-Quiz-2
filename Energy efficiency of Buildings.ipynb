{
 "cells": [
  {
   "cell_type": "markdown",
   "metadata": {},
   "source": [
    "# REGRESSION FOR PREDICTING THE ENERGY EFFICIENCY OF BUILDINGS\n",
    "\n",
    "- The aim of this regression model is to study the dataset on the energy efficiency of buildings, split the dataset into the Training and Validation Dataset and run a multiple linear regression.\n",
    "\n",
    "\n",
    "- A 70-30 train-test split will the format for dividing our data into the Training and Validation Dataset. Also, a random state of 42 will be added for the sake of reproducibility.\n",
    "\n",
    "\n",
    "- The [document](https://archive.ics.uci.edu/ml/machine-learning-databases/00374/energydata_complete.csv) contains the time series data which shows the rate of appliances energy use in a low energy building. \n",
    "\n",
    "\n",
    "- Each entry on the dataset is recorded at a interval of 10 minutes for approximately 4.5 months. A ZigBee wireless sensor network was used in monitoring the house temperature and humidity conditions of the buildings. The dataset is a merger of the:\n",
    "        \n",
    "     - Weather from the nearest airport weather station (Chievres Airport, Belgium)\n",
    "        \n",
    "     - Experimental data sets using the date and time column\n",
    "        \n",
    "     - Two random variables **(rv1 and rv2)** for testing the regression models and filter out the non-predictive attributes.\n",
    "        \n",
    " \n",
    "- The dataset contains a total of **29 columns** and the description for each column is given below:\n",
    "\n",
    "    - Date(Day/Month/Year) and Time(Minute/Second): This column contains the overall information on the date and time the data was recorded with explicit information on the precise day, month, year, minute and sacond the information was recorded.\n",
    "    \n",
    "    - Appliances: The quantity of energy used in 'Wh' format.\n",
    "    \n",
    "    - Lights: The energy use of light fixtures in the house measured in 'Wh'.\n",
    "    \n",
    "    - T1: The temperature in the **Kitchen area** measured in Celsius\n",
    "    \n",
    "    - RH_1: The humidity in the **kitchen area** measured in percent(%)\n",
    "    \n",
    "    - T2: The temperature in the **living room area** measured in Celsius\n",
    "    \n",
    "    - RH_2: The humidity in the **living room area** measured in percent(%)\n",
    "    \n",
    "    - T3: The temperature in the **laundry room area** measured in Celsius\n",
    "    \n",
    "    - RH_3: The humidity in the **laundry room area** measured in percent(%)\n",
    "    \n",
    "    - T4: The temperature in the **office room area** measured in Celsius\n",
    "    \n",
    "    - RH_4: The humidity in the **office room area** measured in percent(%)\n",
    "    \n",
    "    - T5: The temperature in the **bathroom area** measured in Celsius\n",
    "    \n",
    "    - RH_5: The humidity in the **bathroom** measured in percent(%)\n",
    "    \n",
    "    - T6: The temperature in the **outside the building (north side)** measured in Celsius\n",
    "    \n",
    "    - RH_6: The humidity in the **outside the building (north side)** measured in percent(%)\n",
    "    \n",
    "    - T7: The temperature in the **ironing room** measured in Celsius\n",
    "    \n",
    "    - RH_7: The humidity in the **ironing room** measured in percent(%)\n",
    "    \n",
    "    - T8: The temperature in the **teenager room 2** measured in Celsius\n",
    "    \n",
    "    - RH_8: The humidity in the **teenager room 2** measured in percent(%)\n",
    "    \n",
    "    - T9: The temperature in the **parents room** measured in Celsius\n",
    "    \n",
    "    - RH_9: The humidity in the **parents room** measured in percent(%)\n",
    "    \n",
    "    - T_out: The temperature(from Chievres Weather Station) **outside** measured in Celsius\n",
    "    \n",
    "    - Press_mm_hg: The **pressure** from Chievres weather station measured in percent(%)\n",
    "    \n",
    "    - RH_out: **Humidity outside** from Chievres weather station\n",
    "    \n",
    "    - Windspeed: from Chievres weather station in m/s\n",
    "    \n",
    "    - **Visibility** from Chievres weather station in km\n",
    "    \n",
    "    - **Tdewpoint** from Chievres weather station in ^A degree C\n",
    "    \n",
    "    - rv1: **Random variable 1**, non-dimensional\n",
    "    \n",
    "    - rv2: **Random variable 2**, non-dimensional\n",
    "    "
   ]
  },
  {
   "cell_type": "markdown",
   "metadata": {},
   "source": [
    "## STEP 1: IMPORT REQUIRED LIBRARIES"
   ]
  },
  {
   "cell_type": "code",
   "execution_count": 1,
   "metadata": {
    "collapsed": true,
    "jupyter": {
     "outputs_hidden": true
    }
   },
   "outputs": [
    {
     "name": "stdout",
     "output_type": "stream",
     "text": [
      "       Kitchen_Area_Temp  Appliances_Energy_Quantity\n",
      "1117           18.600000                          20\n",
      "16275          23.315000                         340\n",
      "13272          22.926667                         180\n",
      "3160           21.790000                          90\n",
      "19210          24.260000                          60\n",
      "8260           20.323333                          40\n",
      "12299          22.200000                          60\n",
      "13505          21.700000                          90\n",
      "12913          21.290000                          70\n",
      "17788          24.633333                          60\n",
      "17894          24.200000                          50\n",
      "7665           21.516667                          70\n",
      "10165          21.200000                          50\n",
      "18809          23.100000                          50\n",
      "8737           19.890000                          60\n",
      "\n",
      "\n"
     ]
    },
    {
     "data": {
      "image/png": "[encoded data removed]",
      "text/plain": [
       "<Figure size 432x288 with 1 Axes>"
      ]
     },
     "metadata": {
      "needs_background": "light"
     },
     "output_type": "display_data"
    }
   ],
   "source": [
    "import pandas as pd\n",
    "from pandas import Series, DataFrame\n",
    "import numpy as np\n",
    "import matplotlib.pyplot as plt\n",
    "import seaborn as sns\n",
    "import csv\n",
    "from csv import reader\n",
    "# to read and import the excel file containing our data we need to use to execute our linear regression\n",
    "dframe = pd.read_excel(r'C:\\Users\\USER\\Documents\\ONLINE COURSES\\HAMOYE\\energydata_complete.xlsx')\n",
    "# to rename the column headings present in our dataset, we need to create a dictionary containing the values to replace the headings with\n",
    "column_names = {'date':'Date_and_Time', 'Appliances': 'Appliances_Energy_Quantity', \n",
    "                'lights':  'Light_Fixtures', 'T1': 'Kitchen_Area_Temp', 'RH_1': 'Kitchen_Area_Humidity',\n",
    "                'T2': 'Living_Room_Temp', 'RH_2': 'Living_Room_Humidity', \n",
    "                'T3': 'Laundry_Room_Temp', 'RH_3': 'Laundry_Room_Humidity','T4':'Office_Room_Temp', 'RH_4':'Office_Room_Humidity',  \n",
    "                'T5': 'Bathroom_Temp', 'RH_5': 'Bathroom_Humidity', 'T6':'North_Side_Temp','RH_6': 'North_Side_Humidity', \n",
    "               'T7':'Ironing_Room_Temp','RH_7': 'Ironing_Room_Humidity','T8':'Teenager_Room_Temp', 'RH_8': 'Teenager_Room_Humidity',\n",
    "               'T9': 'Parents_Room_Temp', 'RH_9': 'Parents_Room_Humidity', 'T_out': 'Outside_Temperature',\n",
    "                'Press_mm_hg': 'Weather_Station_Pressure', 'Windspeed': 'Windspeed','Visibility': 'Visibility', \n",
    "                'RH_out': 'Outside_Humidity','Tdewpoint': 'Dewpoint', 'rv1': 'Random_variable_1', 'rv2': 'Random_variable_2'}\n",
    "dframe = dframe.rename(columns=column_names)\n",
    "simple_linear_reg_df = dframe[['Kitchen_Area_Temp','Appliances_Energy_Quantity']].sample(15, random_state=2)\n",
    "print (simple_linear_reg_df)\n",
    "# to create a regression plot using seaborn which we previously imported\n",
    "sns.regplot(x='Kitchen_Area_Temp', y='Appliances_Energy_Quantity', data=simple_linear_reg_df)\n",
    "print ('\\n')"
   ]
  },
  {
   "cell_type": "code",
   "execution_count": 2,
   "metadata": {
    "collapsed": true,
    "jupyter": {
     "outputs_hidden": true,
     "source_hidden": true
    }
   },
   "outputs": [
    {
     "name": "stdout",
     "output_type": "stream",
     "text": [
      "       Kitchen_Area_Temp  Appliances_Energy_Quantity\n",
      "1117           18.600000                          20\n",
      "16275          23.315000                         340\n",
      "13272          22.926667                         180\n",
      "3160           21.790000                          90\n",
      "19210          24.260000                          60\n",
      "8260           20.323333                          40\n",
      "12299          22.200000                          60\n",
      "13505          21.700000                          90\n",
      "12913          21.290000                          70\n",
      "17788          24.633333                          60\n",
      "17894          24.200000                          50\n",
      "7665           21.516667                          70\n",
      "10165          21.200000                          50\n",
      "18809          23.100000                          50\n",
      "8737           19.890000                          60\n"
     ]
    },
    {
     "data": {
      "text/plain": [
       "<matplotlib.axes._subplots.AxesSubplot at 0x2403581d3c8>"
      ]
     },
     "execution_count": 2,
     "metadata": {},
     "output_type": "execute_result"
    },
    {
     "data": {
      "image/png": "[encoded data removed]",
      "text/plain": [
       "<Figure size 432x288 with 1 Axes>"
      ]
     },
     "metadata": {
      "needs_background": "light"
     },
     "output_type": "display_data"
    }
   ],
   "source": [
    "# an alternative method to plotting the simple linear regression for the selected data.\n",
    "import numpy as np\n",
    "import pandas as pd\n",
    "from pandas import Series, DataFrame\n",
    "import matplotlib.pyplot as plt \n",
    "import seaborn as sns\n",
    "import csv\n",
    "from csv import reader\n",
    "dframe = pd.read_excel(r'C:\\Users\\USER\\Documents\\ONLINE COURSES\\HAMOYE\\energydata_complete.xlsx')\n",
    "# The difference between the first and second is that we apply the method of MAPPING here\n",
    "dframe.columns = dframe.columns.map({'date':'Date_and_Time', 'Appliances': 'Appliances_Energy_Quantity', \n",
    "                'lights':  'Light_Fixtures', 'T1': 'Kitchen_Area_Temp', 'RH_1': 'Kitchen_Area_Humidity',\n",
    "                'T2': 'Living_Room_Temp', 'RH_2': 'Living_Room_Humidity', \n",
    "                'T3': 'Laundry_Room_Temp', 'RH_3': 'Laundry_Room_Humidity','T4':'Office_Room_Temp', 'RH_4':'Office_Room_Humidity',  \n",
    "                'T5': 'Bathroom_Temp', 'RH_5': 'Bathroom_Humidity', 'T6':'North_Side_Temp','RH_6': 'North_Side_Humidity', \n",
    "               'T7':'Ironing_Room_Temp','RH_7': 'Ironing_Room_Humidity','T8':'Teenager_Room_Temp', 'RH_8': 'Teenager_Room_Humidity',\n",
    "               'T9': 'Parents_Room_Temp', 'RH_9': 'Parents_Room_Humidity', 'T_out': 'Outside_Temperature',\n",
    "                'Press_mm_hg': 'Weather_Station_Pressure', 'RH_out': 'Outside_Humidity','Tdewpoint': 'Dewpoint', \n",
    "                'rv1': 'Random_variable_1', 'rv2': 'Random_variable_2'})\n",
    "simple_linear_reg_df = dframe[['Kitchen_Area_Temp','Appliances_Energy_Quantity']].sample(15, random_state=2)\n",
    "print (simple_linear_reg_df)\n",
    "# to create a regression plot using seaborn which we previously imported\n",
    "sns.regplot(x='Kitchen_Area_Temp', y='Appliances_Energy_Quantity', data=simple_linear_reg_df)"
   ]
  },
  {
   "cell_type": "markdown",
   "metadata": {},
   "source": [
    "## DATASET NORMALIZATION\n",
    "\n",
    "- Here, we eliminate certain columns from our dataset so that we can keep the relevant values needed to build an efficient regression model. "
   ]
  },
  {
   "cell_type": "code",
   "execution_count": 4,
   "metadata": {
    "collapsed": true,
    "jupyter": {
     "outputs_hidden": true
    }
   },
   "outputs": [
    {
     "name": "stdout",
     "output_type": "stream",
     "text": [
      "       Appliances_Energy_Quantity  Kitchen_Area_Temp  Kitchen_Area_Humidity  \\\n",
      "0                              60          19.890000              47.596667   \n",
      "1                              60          19.890000              46.693333   \n",
      "2                              50          19.890000              46.300000   \n",
      "3                              50          19.890000              46.066667   \n",
      "4                              60          19.890000              46.333333   \n",
      "...                           ...                ...                    ...   \n",
      "19730                         100          25.566667              46.560000   \n",
      "19731                          90          25.500000              46.500000   \n",
      "19732                         270          25.500000              46.596667   \n",
      "19733                         420          25.500000              46.990000   \n",
      "19734                         430          25.500000              46.600000   \n",
      "\n",
      "       Living_Room_Temp  Living_Room_Humidity  Laundry_Room_Temp  \\\n",
      "0             19.200000             44.790000          19.790000   \n",
      "1             19.200000             44.722500          19.790000   \n",
      "2             19.200000             44.626667          19.790000   \n",
      "3             19.200000             44.590000          19.790000   \n",
      "4             19.200000             44.530000          19.790000   \n",
      "...                 ...                   ...                ...   \n",
      "19730         25.890000             42.025714          27.200000   \n",
      "19731         25.754000             42.080000          27.133333   \n",
      "19732         25.628571             42.768571          27.050000   \n",
      "19733         25.414000             43.036000          26.890000   \n",
      "19734         25.264286             42.971429          26.823333   \n",
      "\n",
      "       Laundry_Room_Humidity  Office_Room_Temp  Office_Room_Humidity  \\\n",
      "0                  44.730000         19.000000             45.566667   \n",
      "1                  44.790000         19.000000             45.992500   \n",
      "2                  44.933333         18.926667             45.890000   \n",
      "3                  45.000000         18.890000             45.723333   \n",
      "4                  45.000000         18.890000             45.530000   \n",
      "...                      ...               ...                   ...   \n",
      "19730              41.163333         24.700000             45.590000   \n",
      "19731              41.223333         24.700000             45.590000   \n",
      "19732              41.690000         24.700000             45.730000   \n",
      "19733              41.290000         24.700000             45.790000   \n",
      "19734              41.156667         24.700000             45.963333   \n",
      "\n",
      "       Bathroom_Temp  ...  Parents_Room_Temp  Parents_Room_Humidity  \\\n",
      "0          17.166667  ...          17.033333                45.5300   \n",
      "1          17.166667  ...          17.066667                45.5600   \n",
      "2          17.166667  ...          17.000000                45.5000   \n",
      "3          17.166667  ...          17.000000                45.4000   \n",
      "4          17.200000  ...          17.000000                45.4000   \n",
      "...              ...  ...                ...                    ...   \n",
      "19730      23.200000  ...          23.200000                46.7900   \n",
      "19731      23.230000  ...          23.200000                46.7900   \n",
      "19732      23.230000  ...          23.200000                46.7900   \n",
      "19733      23.200000  ...          23.200000                46.8175   \n",
      "19734      23.200000  ...          23.200000                46.8450   \n",
      "\n",
      "       Outside_Temperature  Weather_Station_Pressure  Outside_Humidity  \\\n",
      "0                     6.60                     733.5         92.000000   \n",
      "1                     6.48                     733.6         92.000000   \n",
      "2                     6.37                     733.7         92.000000   \n",
      "3                     6.25                     733.8         92.000000   \n",
      "4                     6.13                     733.9         92.000000   \n",
      "...                    ...                       ...               ...   \n",
      "19730                22.70                     755.2         55.666667   \n",
      "19731                22.60                     755.2         56.000000   \n",
      "19732                22.50                     755.2         56.333333   \n",
      "19733                22.30                     755.2         56.666667   \n",
      "19734                22.20                     755.2         57.000000   \n",
      "\n",
      "            NaN        NaN  Dewpoint  Random_variable_1  Random_variable_2  \n",
      "0      7.000000  63.000000       5.3          13.275433          13.275433  \n",
      "1      6.666667  59.166667       5.2          18.606195          18.606195  \n",
      "2      6.333333  55.333333       5.1          28.642668          28.642668  \n",
      "3      6.000000  51.500000       5.0          45.410390          45.410390  \n",
      "4      5.666667  47.666667       4.9          10.084097          10.084097  \n",
      "...         ...        ...       ...                ...                ...  \n",
      "19730  3.333333  23.666667      13.3          43.096812          43.096812  \n",
      "19731  3.500000  24.500000      13.3          49.282940          49.282940  \n",
      "19732  3.666667  25.333333      13.3          29.199117          29.199117  \n",
      "19733  3.833333  26.166667      13.2           6.322784           6.322784  \n",
      "19734  4.000000  27.000000      13.2          34.118851          34.118851  \n",
      "\n",
      "[19735 rows x 27 columns]\n"
     ]
    }
   ],
   "source": [
    "features_dframe = dframe.drop(columns=['Date_and_Time', 'Light_Fixtures'])\n",
    "print (features_dframe)"
   ]
  },
  {
   "cell_type": "code",
   "execution_count": 12,
   "metadata": {
    "collapsed": true,
    "jupyter": {
     "outputs_hidden": true
    }
   },
   "outputs": [
    {
     "name": "stdout",
     "output_type": "stream",
     "text": [
      "       Appliances_Energy_Quantity  Kitchen_Area_Temp  Kitchen_Area_Humidity  \\\n",
      "count                19735.000000       19735.000000           19735.000000   \n",
      "mean                    97.694958          21.686571              40.259739   \n",
      "std                    102.524891           1.606066               3.979299   \n",
      "min                     10.000000          16.790000              27.023333   \n",
      "25%                     50.000000          20.760000              37.333333   \n",
      "50%                     60.000000          21.600000              39.656667   \n",
      "75%                    100.000000          22.600000              43.066667   \n",
      "max                   1080.000000          26.260000              63.360000   \n",
      "\n",
      "       Living_Room_Temp  Living_Room_Humidity  Laundry_Room_Temp  \\\n",
      "count      19735.000000          19735.000000       19735.000000   \n",
      "mean          20.341219             40.420420          22.267611   \n",
      "std            2.192974              4.069813           2.006111   \n",
      "min           16.100000             20.463333          17.200000   \n",
      "25%           18.790000             37.900000          20.790000   \n",
      "50%           20.000000             40.500000          22.100000   \n",
      "75%           21.500000             43.260000          23.290000   \n",
      "max           29.856667             56.026667          29.236000   \n",
      "\n",
      "       Laundry_Room_Humidity  Office_Room_Temp  Office_Room_Humidity  \\\n",
      "count           19735.000000      19735.000000          19735.000000   \n",
      "mean               39.242500         20.855335             39.026904   \n",
      "std                 3.254576          2.042884              4.341321   \n",
      "min                28.766667         15.100000             27.660000   \n",
      "25%                36.900000         19.530000             35.530000   \n",
      "50%                38.530000         20.666667             38.400000   \n",
      "75%                41.760000         22.100000             42.156667   \n",
      "max                50.163333         26.200000             51.090000   \n",
      "\n",
      "       Bathroom_Temp  ...  Parents_Room_Temp  Parents_Room_Humidity  \\\n",
      "count   19735.000000  ...       19735.000000           19735.000000   \n",
      "mean       19.592106  ...          19.485828              41.552401   \n",
      "std         1.844623  ...           2.014712               4.151497   \n",
      "min        15.330000  ...          14.890000              29.166667   \n",
      "25%        18.277500  ...          18.000000              38.500000   \n",
      "50%        19.390000  ...          19.390000              40.900000   \n",
      "75%        20.619643  ...          20.600000              44.338095   \n",
      "max        25.795000  ...          24.500000              53.326667   \n",
      "\n",
      "       Outside_Temperature  Weather_Station_Pressure  Outside_Humidity  \\\n",
      "count         19735.000000              19735.000000      19735.000000   \n",
      "mean              7.412580                755.522602         79.750418   \n",
      "std               5.318464                  7.399441         14.901088   \n",
      "min              -5.000000                729.300000         24.000000   \n",
      "25%               3.670000                750.933333         70.333333   \n",
      "50%               6.920000                756.100000         83.666667   \n",
      "75%              10.400000                760.933333         91.666667   \n",
      "max              26.100000                772.300000        100.000000   \n",
      "\n",
      "                NaN           NaN      Dewpoint  Random_variable_1  \\\n",
      "count  19735.000000  19735.000000  19735.000000       19735.000000   \n",
      "mean       4.039752     38.330834      3.760995          24.988033   \n",
      "std        2.451221     11.794719      4.195248          14.496634   \n",
      "min        0.000000      1.000000     -6.600000           0.005322   \n",
      "25%        2.000000     29.000000      0.900000          12.497889   \n",
      "50%        3.666667     40.000000      3.430000          24.897653   \n",
      "75%        5.500000     40.000000      6.570000          37.583769   \n",
      "max       14.000000     66.000000     15.500000          49.996530   \n",
      "\n",
      "       Random_variable_2  \n",
      "count       19735.000000  \n",
      "mean           24.988033  \n",
      "std            14.496634  \n",
      "min             0.005322  \n",
      "25%            12.497889  \n",
      "50%            24.897653  \n",
      "75%            37.583769  \n",
      "max            49.996530  \n",
      "\n",
      "[8 rows x 27 columns]\n"
     ]
    }
   ],
   "source": [
    "# we want to print out the table consisting of the first few values using the dframe.head() function\n",
    "features_dframe.head()\n",
    "# The describe() function comes with three parameters: percentile, include and exclude. The describe() function in Python \n",
    "# (Pandas) is used to get the statistical description of the dataframe such as the mean, standard deviation, interquartile range, \n",
    "# minimum and maximum values and so on. Because we want all our values to be used in generating our statistical summary, \n",
    "# we pass an argument (\"all\") to the 'include' parameter to tell it to include all values.\n",
    "print (features_dframe.describe(include = 'all'))"
   ]
  },
  {
   "cell_type": "code",
   "execution_count": 14,
   "metadata": {
    "collapsed": true,
    "jupyter": {
     "outputs_hidden": true
    }
   },
   "outputs": [
    {
     "name": "stdout",
     "output_type": "stream",
     "text": [
      "<class 'pandas.core.frame.DataFrame'>\n",
      "RangeIndex: 19735 entries, 0 to 19734\n",
      "Data columns (total 27 columns):\n",
      " #   Column                      Non-Null Count  Dtype  \n",
      "---  ------                      --------------  -----  \n",
      " 0   Appliances_Energy_Quantity  19735 non-null  int64  \n",
      " 1   Kitchen_Area_Temp           19735 non-null  float64\n",
      " 2   Kitchen_Area_Humidity       19735 non-null  float64\n",
      " 3   Living_Room_Temp            19735 non-null  float64\n",
      " 4   Living_Room_Humidity        19735 non-null  float64\n",
      " 5   Laundry_Room_Temp           19735 non-null  float64\n",
      " 6   Laundry_Room_Humidity       19735 non-null  float64\n",
      " 7   Office_Room_Temp            19735 non-null  float64\n",
      " 8   Office_Room_Humidity        19735 non-null  float64\n",
      " 9   Bathroom_Temp               19735 non-null  float64\n",
      " 10  Bathroom_Humidity           19735 non-null  float64\n",
      " 11  North_Side_Temp             19735 non-null  float64\n",
      " 12  North_Side_Humidity         19735 non-null  float64\n",
      " 13  Ironing_Room_Temp           19735 non-null  float64\n",
      " 14  Ironing_Room_Humidity       19735 non-null  float64\n",
      " 15  Teenager_Room_Temp          19735 non-null  float64\n",
      " 16  Teenager_Room_Humidity      19735 non-null  float64\n",
      " 17  Parents_Room_Temp           19735 non-null  float64\n",
      " 18  Parents_Room_Humidity       19735 non-null  float64\n",
      " 19  Outside_Temperature         19735 non-null  float64\n",
      " 20  Weather_Station_Pressure    19735 non-null  float64\n",
      " 21  Outside_Humidity            19735 non-null  float64\n",
      " 22  nan                         19735 non-null  float64\n",
      " 23  nan                         19735 non-null  float64\n",
      " 24  Dewpoint                    19735 non-null  float64\n",
      " 25  Random_variable_1           19735 non-null  float64\n",
      " 26  Random_variable_2           19735 non-null  float64\n",
      "dtypes: float64(26), int64(1)\n",
      "memory usage: 4.1 MB\n"
     ]
    }
   ],
   "source": [
    "# to display the info of the dataframe\n",
    "features_dframe.info()"
   ]
  },
  {
   "cell_type": "code",
   "execution_count": 15,
   "metadata": {
    "collapsed": true,
    "jupyter": {
     "outputs_hidden": true
    }
   },
   "outputs": [
    {
     "data": {
      "text/html": [
       "<div>\n",
       "<style scoped>\n",
       "    .dataframe tbody tr th:only-of-type {\n",
       "        vertical-align: middle;\n",
       "    }\n",
       "\n",
       "    .dataframe tbody tr th {\n",
       "        vertical-align: top;\n",
       "    }\n",
       "\n",
       "    .dataframe thead th {\n",
       "        text-align: right;\n",
       "    }\n",
       "</style>\n",
       "<table border=\"1\" class=\"dataframe\">\n",
       "  <thead>\n",
       "    <tr style=\"text-align: right;\">\n",
       "      <th></th>\n",
       "      <th>Appliances_Energy_Quantity</th>\n",
       "      <th>Kitchen_Area_Temp</th>\n",
       "      <th>Kitchen_Area_Humidity</th>\n",
       "      <th>Living_Room_Temp</th>\n",
       "      <th>Living_Room_Humidity</th>\n",
       "      <th>Laundry_Room_Temp</th>\n",
       "      <th>Laundry_Room_Humidity</th>\n",
       "      <th>Office_Room_Temp</th>\n",
       "      <th>Office_Room_Humidity</th>\n",
       "      <th>Bathroom_Temp</th>\n",
       "      <th>...</th>\n",
       "      <th>Parents_Room_Temp</th>\n",
       "      <th>Parents_Room_Humidity</th>\n",
       "      <th>Outside_Temperature</th>\n",
       "      <th>Weather_Station_Pressure</th>\n",
       "      <th>Outside_Humidity</th>\n",
       "      <th>NaN</th>\n",
       "      <th>NaN</th>\n",
       "      <th>Dewpoint</th>\n",
       "      <th>Random_variable_1</th>\n",
       "      <th>Random_variable_2</th>\n",
       "    </tr>\n",
       "  </thead>\n",
       "  <tbody>\n",
       "    <tr>\n",
       "      <th>0</th>\n",
       "      <td>0.046729</td>\n",
       "      <td>0.32735</td>\n",
       "      <td>0.566187</td>\n",
       "      <td>0.225345</td>\n",
       "      <td>0.684038</td>\n",
       "      <td>0.215188</td>\n",
       "      <td>0.746066</td>\n",
       "      <td>0.351351</td>\n",
       "      <td>0.764262</td>\n",
       "      <td>0.175506</td>\n",
       "      <td>...</td>\n",
       "      <td>0.223032</td>\n",
       "      <td>0.677290</td>\n",
       "      <td>0.372990</td>\n",
       "      <td>0.097674</td>\n",
       "      <td>0.894737</td>\n",
       "      <td>0.500000</td>\n",
       "      <td>0.953846</td>\n",
       "      <td>0.538462</td>\n",
       "      <td>0.265449</td>\n",
       "      <td>0.265449</td>\n",
       "    </tr>\n",
       "    <tr>\n",
       "      <th>1</th>\n",
       "      <td>0.046729</td>\n",
       "      <td>0.32735</td>\n",
       "      <td>0.541326</td>\n",
       "      <td>0.225345</td>\n",
       "      <td>0.682140</td>\n",
       "      <td>0.215188</td>\n",
       "      <td>0.748871</td>\n",
       "      <td>0.351351</td>\n",
       "      <td>0.782437</td>\n",
       "      <td>0.175506</td>\n",
       "      <td>...</td>\n",
       "      <td>0.226500</td>\n",
       "      <td>0.678532</td>\n",
       "      <td>0.369132</td>\n",
       "      <td>0.100000</td>\n",
       "      <td>0.894737</td>\n",
       "      <td>0.476190</td>\n",
       "      <td>0.894872</td>\n",
       "      <td>0.533937</td>\n",
       "      <td>0.372083</td>\n",
       "      <td>0.372083</td>\n",
       "    </tr>\n",
       "    <tr>\n",
       "      <th>2</th>\n",
       "      <td>0.037383</td>\n",
       "      <td>0.32735</td>\n",
       "      <td>0.530502</td>\n",
       "      <td>0.225345</td>\n",
       "      <td>0.679445</td>\n",
       "      <td>0.215188</td>\n",
       "      <td>0.755569</td>\n",
       "      <td>0.344745</td>\n",
       "      <td>0.778062</td>\n",
       "      <td>0.175506</td>\n",
       "      <td>...</td>\n",
       "      <td>0.219563</td>\n",
       "      <td>0.676049</td>\n",
       "      <td>0.365595</td>\n",
       "      <td>0.102326</td>\n",
       "      <td>0.894737</td>\n",
       "      <td>0.452381</td>\n",
       "      <td>0.835897</td>\n",
       "      <td>0.529412</td>\n",
       "      <td>0.572848</td>\n",
       "      <td>0.572848</td>\n",
       "    </tr>\n",
       "    <tr>\n",
       "      <th>3</th>\n",
       "      <td>0.037383</td>\n",
       "      <td>0.32735</td>\n",
       "      <td>0.524080</td>\n",
       "      <td>0.225345</td>\n",
       "      <td>0.678414</td>\n",
       "      <td>0.215188</td>\n",
       "      <td>0.758685</td>\n",
       "      <td>0.341441</td>\n",
       "      <td>0.770949</td>\n",
       "      <td>0.175506</td>\n",
       "      <td>...</td>\n",
       "      <td>0.219563</td>\n",
       "      <td>0.671909</td>\n",
       "      <td>0.361736</td>\n",
       "      <td>0.104651</td>\n",
       "      <td>0.894737</td>\n",
       "      <td>0.428571</td>\n",
       "      <td>0.776923</td>\n",
       "      <td>0.524887</td>\n",
       "      <td>0.908261</td>\n",
       "      <td>0.908261</td>\n",
       "    </tr>\n",
       "    <tr>\n",
       "      <th>4</th>\n",
       "      <td>0.046729</td>\n",
       "      <td>0.32735</td>\n",
       "      <td>0.531419</td>\n",
       "      <td>0.225345</td>\n",
       "      <td>0.676727</td>\n",
       "      <td>0.215188</td>\n",
       "      <td>0.758685</td>\n",
       "      <td>0.341441</td>\n",
       "      <td>0.762697</td>\n",
       "      <td>0.178691</td>\n",
       "      <td>...</td>\n",
       "      <td>0.219563</td>\n",
       "      <td>0.671909</td>\n",
       "      <td>0.357878</td>\n",
       "      <td>0.106977</td>\n",
       "      <td>0.894737</td>\n",
       "      <td>0.404762</td>\n",
       "      <td>0.717949</td>\n",
       "      <td>0.520362</td>\n",
       "      <td>0.201611</td>\n",
       "      <td>0.201611</td>\n",
       "    </tr>\n",
       "  </tbody>\n",
       "</table>\n",
       "<p>5 rows × 27 columns</p>\n",
       "</div>"
      ],
      "text/plain": [
       "   Appliances_Energy_Quantity  Kitchen_Area_Temp  Kitchen_Area_Humidity  \\\n",
       "0                    0.046729            0.32735               0.566187   \n",
       "1                    0.046729            0.32735               0.541326   \n",
       "2                    0.037383            0.32735               0.530502   \n",
       "3                    0.037383            0.32735               0.524080   \n",
       "4                    0.046729            0.32735               0.531419   \n",
       "\n",
       "   Living_Room_Temp  Living_Room_Humidity  Laundry_Room_Temp  \\\n",
       "0          0.225345              0.684038           0.215188   \n",
       "1          0.225345              0.682140           0.215188   \n",
       "2          0.225345              0.679445           0.215188   \n",
       "3          0.225345              0.678414           0.215188   \n",
       "4          0.225345              0.676727           0.215188   \n",
       "\n",
       "   Laundry_Room_Humidity  Office_Room_Temp  Office_Room_Humidity  \\\n",
       "0               0.746066          0.351351              0.764262   \n",
       "1               0.748871          0.351351              0.782437   \n",
       "2               0.755569          0.344745              0.778062   \n",
       "3               0.758685          0.341441              0.770949   \n",
       "4               0.758685          0.341441              0.762697   \n",
       "\n",
       "   Bathroom_Temp  ...  Parents_Room_Temp  Parents_Room_Humidity  \\\n",
       "0       0.175506  ...           0.223032               0.677290   \n",
       "1       0.175506  ...           0.226500               0.678532   \n",
       "2       0.175506  ...           0.219563               0.676049   \n",
       "3       0.175506  ...           0.219563               0.671909   \n",
       "4       0.178691  ...           0.219563               0.671909   \n",
       "\n",
       "   Outside_Temperature  Weather_Station_Pressure  Outside_Humidity       NaN  \\\n",
       "0             0.372990                  0.097674          0.894737  0.500000   \n",
       "1             0.369132                  0.100000          0.894737  0.476190   \n",
       "2             0.365595                  0.102326          0.894737  0.452381   \n",
       "3             0.361736                  0.104651          0.894737  0.428571   \n",
       "4             0.357878                  0.106977          0.894737  0.404762   \n",
       "\n",
       "        NaN  Dewpoint  Random_variable_1  Random_variable_2  \n",
       "0  0.953846  0.538462           0.265449           0.265449  \n",
       "1  0.894872  0.533937           0.372083           0.372083  \n",
       "2  0.835897  0.529412           0.572848           0.572848  \n",
       "3  0.776923  0.524887           0.908261           0.908261  \n",
       "4  0.717949  0.520362           0.201611           0.201611  \n",
       "\n",
       "[5 rows x 27 columns]"
      ]
     },
     "execution_count": 15,
     "metadata": {},
     "output_type": "execute_result"
    }
   ],
   "source": [
    "from sklearn.preprocessing import MinMaxScaler\n",
    "from sklearn.linear_model import LinearRegression\n",
    "scaler = MinMaxScaler()\n",
    "new_df = pd.DataFrame(features_dframe)\n",
    "scalerfit = scaler.fit_transform(new_df)\n",
    "normalised_dframe = pd.DataFrame((scalerfit) , columns=new_df.columns)\n",
    "normalised_dframe.head()"
   ]
  },
  {
   "cell_type": "code",
   "execution_count": 24,
   "metadata": {},
   "outputs": [
    {
     "name": "stdout",
     "output_type": "stream",
     "text": [
      "[[ 2.15578912]\n",
      " [10.01116055]\n",
      " [ 1.87391554]\n",
      " ...\n",
      " [ 4.24758774]\n",
      " [ 8.69822311]\n",
      " [ 4.9893603 ]]\n"
     ]
    }
   ],
   "source": [
    "independent =  new_df['Living_Room_Temp'].values.reshape(-1,1)\n",
    "dependent = new_df['North_Side_Temp']. values.reshape(-1,1)\n",
    "from sklearn.model_selection import train_test_split\n",
    "x_train, x_test, y_train, y_test = train_test_split(independent, dependent, test_size=0.3, random_state=42)\n",
    "from sklearn.linear_model import LinearRegression\n",
    "linear_model = LinearRegression()\n",
    "\n",
    "# Next, we fit the model to the training dataset\n",
    "linear_model.fit(x_train, y_train)\n",
    "#obtain predictions\n",
    "predicted_values = linear_model.predict(x_test)\n",
    "print (predicted_values)\n",
    "\n"
   ]
  },
  {
   "cell_type": "code",
   "execution_count": 34,
   "metadata": {},
   "outputs": [
    {
     "name": "stdout",
     "output_type": "stream",
     "text": [
      "[2.22531769]\n",
      "[-37.36585299]\n",
      "0.64\n"
     ]
    }
   ],
   "source": [
    "import pandas as pd\n",
    "from pandas import Series, DataFrame\n",
    "from sklearn.model_selection import train_test_split\n",
    "new_df_coefficient = linear_model.coef_\n",
    "print (new_df_coefficient[0])\n",
    "print (linear_model.intercept_)\n",
    "from sklearn.metrics import r2_score\n",
    "r_squared = r2_score(y_test, predicted_values)\n",
    "print (round(r_squared,2))"
   ]
  },
  {
   "cell_type": "code",
   "execution_count": 44,
   "metadata": {},
   "outputs": [
    {
     "name": "stdout",
     "output_type": "stream",
     "text": [
      "(13814, 26)\n",
      "(5921, 26)\n",
      "(13814,)\n",
      "(5921,)\n",
      "[0.03323354 0.24410634 0.03413597 ... 0.06836286 0.09998262 0.05769919]\n"
     ]
    }
   ],
   "source": [
    "drop_appliance = normalised_dframe.drop([\"Appliances_Energy_Quantity\"],axis = 1)\n",
    "final_drop= normalised_dframe[\"Appliances_Energy_Quantity\"]\n",
    "X_train, x_test,y_train,y_test= train_test_split(drop_appliance,final_drop,test_size = 0.3,random_state = 42)\n",
    "print(X_train.shape)\n",
    "print(x_test.shape)\n",
    "print(y_train.shape)\n",
    "print(y_test.shape)\n",
    "linear_model.fit(X_train,y_train)\n",
    "predicted_values= linear_model.predict(x_test)\n",
    "print (predicted_values)"
   ]
  },
  {
   "cell_type": "code",
   "execution_count": 46,
   "metadata": {
    "collapsed": true,
    "jupyter": {
     "outputs_hidden": true
    }
   },
   "outputs": [
    {
     "name": "stdout",
     "output_type": "stream",
     "text": [
      "0.05\n",
      "\n",
      "\n",
      "45.3455018832439\n",
      "\n",
      "\n",
      "45.35\n",
      "\n",
      "\n",
      "0.15\n",
      "\n",
      "\n",
      "0.088\n"
     ]
    }
   ],
   "source": [
    "mape = mean_absolute_error(y_test,predicted_values)\n",
    "print (round(mape,2))\n",
    "print ('\\n')\n",
    "Residual_sum = np.sum(np.square(y_test - predicted_values))\n",
    "print (Residual_sum)\n",
    "print ('\\n')\n",
    "approximate_rss = round(Residual_sum, 2)\n",
    "print (approximate_rss)\n",
    "print ('\\n')\n",
    "from sklearn.metrics import r2_score\n",
    "r_squared = r2_score(y_test, predicted_values)\n",
    "print (round(r_squared,2))\n",
    "print ('\\n')\n",
    "from sklearn.metrics import mean_squared_error #importing the rmse module from sklearn \n",
    "root_mean_square_error = np.sqrt(mean_squared_error(y_test, predicted_values)) # applying the rmse formula on our dataset\n",
    "print (round(root_mean_square_error,3)) # to print the rmse values for our dataset"
   ]
  },
  {
   "cell_type": "code",
   "execution_count": 52,
   "metadata": {
    "collapsed": true,
    "jupyter": {
     "outputs_hidden": true
    }
   },
   "outputs": [
    {
     "name": "stdout",
     "output_type": "stream",
     "text": [
      "                    Features  Linear_Model_Weight\n",
      "0          Random_variable_1        -1.848889e+11\n",
      "1       Living_Room_Humidity        -4.567436e-01\n",
      "2        Outside_Temperature        -3.219804e-01\n",
      "3           Living_Room_Temp        -2.362984e-01\n",
      "4          Parents_Room_Temp        -1.899514e-01\n",
      "5     Teenager_Room_Humidity        -1.576548e-01\n",
      "6           Outside_Humidity        -7.773357e-02\n",
      "7      Ironing_Room_Humidity        -4.454338e-02\n",
      "8      Parents_Room_Humidity        -3.982821e-02\n",
      "9              Bathroom_Temp        -1.564816e-02\n",
      "10         Kitchen_Area_Temp        -3.241639e-03\n",
      "11  Weather_Station_Pressure         6.863882e-03\n",
      "12         Ironing_Room_Temp         1.035618e-02\n",
      "13                       NaN         1.230260e-02\n",
      "14         Bathroom_Humidity         1.599711e-02\n",
      "15      Office_Room_Humidity         2.641239e-02\n",
      "16          Office_Room_Temp         2.899366e-02\n",
      "17                       NaN         2.922310e-02\n",
      "18       North_Side_Humidity         3.805548e-02\n",
      "19     Laundry_Room_Humidity         9.607197e-02\n",
      "20        Teenager_Room_Temp         1.020161e-01\n",
      "21                  Dewpoint         1.178826e-01\n",
      "22           North_Side_Temp         2.364478e-01\n",
      "23         Laundry_Room_Temp         2.906097e-01\n",
      "24     Kitchen_Area_Humidity         5.535058e-01\n",
      "25         Random_variable_2         1.848889e+11\n"
     ]
    }
   ],
   "source": [
    "# now, let us compare the effects which the regularization of our variables using the Ridge and Lasso regression have had on the model:\n",
    "# let us define a function which returns the weight of the L1 and L2 regularizations:\n",
    "import numpy as np\n",
    "import pandas as pd\n",
    "from pandas import Series, DataFrame\n",
    "def calc_weights_dframe(model, feature, column_name):\n",
    "    weights = pd.Series(model.coef_, feature.columns).sort_values() # pd.Series is a one-dimensional ndarray with axis labels.\n",
    "    weights_dframe = pd.DataFrame(weights).reset_index() # to reset the index of the DataFrame and use the default one instead\n",
    "    weights_dframe.columns = ['Features',column_name] # to label the columns of a dataframe\n",
    "    weights_dframe[column_name].round(2)\n",
    "    return weights_dframe\n",
    "# now we apply our created function to all three types of regression error penalization types:\n",
    "\n",
    "linear_model_weights = calc_weights_dframe(linear_model, X_train, 'Linear_Model_Weight')\n",
    "print (linear_model_weights)"
   ]
  },
  {
   "cell_type": "code",
   "execution_count": 55,
   "metadata": {},
   "outputs": [
    {
     "name": "stdout",
     "output_type": "stream",
     "text": [
      "[0.0331965  0.24044278 0.03462127 ... 0.06871992 0.09998794 0.05882301]\n"
     ]
    },
    {
     "data": {
      "text/plain": [
       "0.088"
      ]
     },
     "execution_count": 55,
     "metadata": {},
     "output_type": "execute_result"
    }
   ],
   "source": [
    "ridge_regression = Ridge(alpha=0.4)\n",
    "ridge_regression.fit(X_train,y_train)\n",
    "ridge_predicted = ridge_regression.predict(X_test)\n",
    "print (ridge_predicted)\n",
    "ridge_rmse = np.sqrt(mean_squared_error(y_test,ridge_predicted))\n",
    "round(ridge_rmse,3)\n",
    "reg_rmse=np.sqrt(mean_squared_error(y_test,predicted_values))\n",
    "round(reg_rmse,3)"
   ]
  },
  {
   "cell_type": "code",
   "execution_count": 59,
   "metadata": {
    "collapsed": true,
    "jupyter": {
     "outputs_hidden": true
    }
   },
   "outputs": [
    {
     "name": "stdout",
     "output_type": "stream",
     "text": [
      "Lasso(alpha=0.001, copy_X=True, fit_intercept=True, max_iter=1000,\n",
      "      normalize=False, positive=False, precompute=False, random_state=None,\n",
      "      selection='cyclic', tol=0.0001, warm_start=False)\n",
      "[0.07370267 0.08143458 0.07716072 ... 0.07792848 0.09034412 0.08359255]\n",
      "                    Features  Lasso_weight\n",
      "0           Outside_Humidity     -0.049557\n",
      "1     Teenager_Room_Humidity     -0.000110\n",
      "2          Kitchen_Area_Temp      0.000000\n",
      "3                   Dewpoint      0.000000\n",
      "4                        NaN      0.000000\n",
      "5   Weather_Station_Pressure     -0.000000\n",
      "6        Outside_Temperature      0.000000\n",
      "7      Parents_Room_Humidity     -0.000000\n",
      "8          Parents_Room_Temp     -0.000000\n",
      "9         Teenager_Room_Temp      0.000000\n",
      "10     Ironing_Room_Humidity     -0.000000\n",
      "11         Random_variable_1     -0.000000\n",
      "12         Ironing_Room_Temp     -0.000000\n",
      "13           North_Side_Temp      0.000000\n",
      "14         Bathroom_Humidity      0.000000\n",
      "15             Bathroom_Temp     -0.000000\n",
      "16      Office_Room_Humidity      0.000000\n",
      "17          Office_Room_Temp     -0.000000\n",
      "18     Laundry_Room_Humidity      0.000000\n",
      "19         Laundry_Room_Temp      0.000000\n",
      "20      Living_Room_Humidity     -0.000000\n",
      "21          Living_Room_Temp      0.000000\n",
      "22       North_Side_Humidity     -0.000000\n",
      "23         Random_variable_2     -0.000000\n",
      "24                       NaN      0.002912\n",
      "25     Kitchen_Area_Humidity      0.017880\n"
     ]
    },
    {
     "data": {
      "text/plain": [
       "0.094"
      ]
     },
     "execution_count": 59,
     "metadata": {},
     "output_type": "execute_result"
    }
   ],
   "source": [
    "# using the L1 Regularization or Lasso Regression:\n",
    "from sklearn.linear_model import Lasso\n",
    "lasso_regression = Lasso(alpha = 0.001) # the alpha parameter is the constant that multiplies the L1 term and we reduce it to 0.001 to reduce under-fitting\n",
    "print(lasso_regression.fit(X_train, y_train)) # the fit parameter is used to calculate the intercept or bias for the model\n",
    "lasso_predicted  = lasso_regression.predict(X_test)\n",
    "print (lasso_predicted)\n",
    "lasso_weights_dframe = calc_weights_dframe(lasso_regression, X_train, 'Lasso_weight')\n",
    "print (lasso_weights_dframe)\n",
    "lasso_rmse = np.sqrt(mean_squared_error(y_test,lasso_predict))\n",
    "round(lasso_rmse,3)"
   ]
  },
  {
   "cell_type": "code",
   "execution_count": 60,
   "metadata": {},
   "outputs": [
    {
     "name": "stdout",
     "output_type": "stream",
     "text": [
      "Lasso(alpha=0.001, copy_X=True, fit_intercept=True, max_iter=1000,\n",
      "      normalize=False, positive=False, precompute=False, random_state=None,\n",
      "      selection='cyclic', tol=0.0001, warm_start=False)\n",
      "Ridge(alpha=0.5, copy_X=True, fit_intercept=True, max_iter=None,\n",
      "      normalize=False, random_state=None, solver='auto', tol=0.001)\n",
      "                    Features  Linear_Model_Weight  Ridge_reg_Weight  \\\n",
      "0          Random_variable_1        -1.848889e+11          0.000740   \n",
      "1       Living_Room_Humidity        -4.567436e-01         -0.401113   \n",
      "2        Outside_Temperature        -3.219804e-01         -0.250943   \n",
      "3           Living_Room_Temp        -2.362984e-01         -0.193899   \n",
      "4          Parents_Room_Temp        -1.899514e-01         -0.188615   \n",
      "5     Teenager_Room_Humidity        -1.576548e-01         -0.156584   \n",
      "6           Outside_Humidity        -7.773357e-02         -0.050642   \n",
      "7      Ironing_Room_Humidity        -4.454338e-02         -0.046297   \n",
      "8      Parents_Room_Humidity        -3.982821e-02         -0.041707   \n",
      "9              Bathroom_Temp        -1.564816e-02         -0.020714   \n",
      "10         Kitchen_Area_Temp        -3.241639e-03         -0.021515   \n",
      "11  Weather_Station_Pressure         6.863882e-03          0.006511   \n",
      "12         Ironing_Room_Temp         1.035618e-02          0.010048   \n",
      "13                       NaN         1.230260e-02          0.012032   \n",
      "14                       NaN         1.230260e-02          0.012032   \n",
      "15                       NaN         1.230260e-02          0.030457   \n",
      "16                       NaN         1.230260e-02          0.030457   \n",
      "17                       NaN         2.922310e-02          0.012032   \n",
      "18                       NaN         2.922310e-02          0.012032   \n",
      "19                       NaN         2.922310e-02          0.030457   \n",
      "20                       NaN         2.922310e-02          0.030457   \n",
      "21         Bathroom_Humidity         1.599711e-02          0.016177   \n",
      "22      Office_Room_Humidity         2.641239e-02          0.024155   \n",
      "23          Office_Room_Temp         2.899366e-02          0.026986   \n",
      "24       North_Side_Humidity         3.805548e-02          0.035006   \n",
      "25     Laundry_Room_Humidity         9.607197e-02          0.095012   \n",
      "26        Teenager_Room_Temp         1.020161e-01          0.100753   \n",
      "27                  Dewpoint         1.178826e-01          0.076804   \n",
      "28           North_Side_Temp         2.364478e-01          0.213350   \n",
      "29         Laundry_Room_Temp         2.906097e-01          0.287377   \n",
      "30     Kitchen_Area_Humidity         5.535058e-01          0.511910   \n",
      "31         Random_variable_2         1.848889e+11          0.000740   \n",
      "\n",
      "    Lasso_reg_Weight  \n",
      "0          -0.000000  \n",
      "1          -0.000000  \n",
      "2           0.000000  \n",
      "3           0.000000  \n",
      "4          -0.000000  \n",
      "5          -0.000110  \n",
      "6          -0.049557  \n",
      "7          -0.000000  \n",
      "8          -0.000000  \n",
      "9          -0.000000  \n",
      "10          0.000000  \n",
      "11         -0.000000  \n",
      "12         -0.000000  \n",
      "13          0.000000  \n",
      "14          0.002912  \n",
      "15          0.000000  \n",
      "16          0.002912  \n",
      "17          0.000000  \n",
      "18          0.002912  \n",
      "19          0.000000  \n",
      "20          0.002912  \n",
      "21          0.000000  \n",
      "22          0.000000  \n",
      "23         -0.000000  \n",
      "24         -0.000000  \n",
      "25          0.000000  \n",
      "26          0.000000  \n",
      "27          0.000000  \n",
      "28          0.000000  \n",
      "29          0.000000  \n",
      "30          0.017880  \n",
      "31         -0.000000  \n"
     ]
    }
   ],
   "source": [
    "# using the L1 Regularization or Lasso Regression:\n",
    "from sklearn.linear_model import Lasso\n",
    "lasso_regression = Lasso(alpha = 0.001) # the alpha parameter is the constant that multiplies the L1 term and we reduce it to 0.001 to reduce under-fitting\n",
    "print(lasso_regression.fit(X_train, y_train)) # the fit parameter is used to calculate the intercept or bias for the model\n",
    "\n",
    "# using the L2 regularization or the Ridge Regression:\n",
    "from sklearn.linear_model import Ridge\n",
    "ridge_regression = Ridge(alpha = 0.5)\n",
    "print(ridge_regression.fit(X_train, y_train))\n",
    "Ridge_reg_weights = calc_weights_dframe(ridge_regression, X_train, 'Ridge_reg_Weight')\n",
    "Lasso_reg_weights = calc_weights_dframe(lasso_regression, X_train, 'Lasso_reg_Weight')\n",
    "\n",
    "Total_weights = pd.merge(linear_model_weights, Ridge_reg_weights, on='Features') # the pd.merge function is used to merge DataFrame or Series based on a database style.\n",
    "# the 'on' parameter in the pd.merge function helps us to tell Python the Column or Index level names where the Dataframe should be joined on.\n",
    "# the pd.merge function can only join two dataframes at the same time based on the parameters: 'left' and 'right'. Hence the reason why we have to write our merge function twice to merge all three weights.\n",
    "\n",
    "Final_weights = pd.merge(Total_weights, Lasso_reg_weights, on= 'Features')\n",
    "print (Final_weights)"
   ]
  }
 ],
 "metadata": {
  "kernelspec": {
   "display_name": "Python 3",
   "language": "python",
   "name": "python3"
  },
  "language_info": {
   "codemirror_mode": {
    "name": "ipython",
    "version": 3
   },
   "file_extension": ".py",
   "mimetype": "text/x-python",
   "name": "python",
   "nbconvert_exporter": "python",
   "pygments_lexer": "ipython3",
   "version": "3.7.6"
  }
 },
 "nbformat": 4,
 "nbformat_minor": 4
}
